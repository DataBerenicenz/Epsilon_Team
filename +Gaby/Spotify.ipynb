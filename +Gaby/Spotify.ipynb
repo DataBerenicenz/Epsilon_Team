{
 "cells": [
  {
   "cell_type": "code",
   "execution_count": 1,
   "metadata": {},
   "outputs": [
    {
     "data": {
      "text/html": [
       "<div>\n",
       "<style scoped>\n",
       "    .dataframe tbody tr th:only-of-type {\n",
       "        vertical-align: middle;\n",
       "    }\n",
       "\n",
       "    .dataframe tbody tr th {\n",
       "        vertical-align: top;\n",
       "    }\n",
       "\n",
       "    .dataframe thead th {\n",
       "        text-align: right;\n",
       "    }\n",
       "</style>\n",
       "<table border=\"1\" class=\"dataframe\">\n",
       "  <thead>\n",
       "    <tr style=\"text-align: right;\">\n",
       "      <th></th>\n",
       "      <th>genres</th>\n",
       "      <th>acousticness</th>\n",
       "      <th>danceability</th>\n",
       "      <th>duration_ms</th>\n",
       "      <th>energy</th>\n",
       "      <th>instrumentalness</th>\n",
       "      <th>liveness</th>\n",
       "      <th>loudness</th>\n",
       "      <th>speechiness</th>\n",
       "      <th>tempo</th>\n",
       "      <th>valence</th>\n",
       "      <th>popularity</th>\n",
       "      <th>key</th>\n",
       "      <th>mode</th>\n",
       "    </tr>\n",
       "  </thead>\n",
       "  <tbody>\n",
       "    <tr>\n",
       "      <th>0</th>\n",
       "      <td>432hz</td>\n",
       "      <td>0.494780</td>\n",
       "      <td>0.299333</td>\n",
       "      <td>1.048887e+06</td>\n",
       "      <td>0.450678</td>\n",
       "      <td>0.477762</td>\n",
       "      <td>0.131000</td>\n",
       "      <td>-16.854000</td>\n",
       "      <td>0.076817</td>\n",
       "      <td>120.285667</td>\n",
       "      <td>0.221750</td>\n",
       "      <td>52.166667</td>\n",
       "      <td>5</td>\n",
       "      <td>1</td>\n",
       "    </tr>\n",
       "    <tr>\n",
       "      <th>1</th>\n",
       "      <td>[]</td>\n",
       "      <td>0.679245</td>\n",
       "      <td>0.521473</td>\n",
       "      <td>2.298526e+05</td>\n",
       "      <td>0.401522</td>\n",
       "      <td>0.196737</td>\n",
       "      <td>0.221586</td>\n",
       "      <td>-12.679076</td>\n",
       "      <td>0.112267</td>\n",
       "      <td>112.025168</td>\n",
       "      <td>0.515920</td>\n",
       "      <td>21.682005</td>\n",
       "      <td>7</td>\n",
       "      <td>1</td>\n",
       "    </tr>\n",
       "    <tr>\n",
       "      <th>2</th>\n",
       "      <td>a cappella</td>\n",
       "      <td>0.621532</td>\n",
       "      <td>0.577017</td>\n",
       "      <td>1.936522e+05</td>\n",
       "      <td>0.345694</td>\n",
       "      <td>0.003799</td>\n",
       "      <td>0.127087</td>\n",
       "      <td>-12.770211</td>\n",
       "      <td>0.095324</td>\n",
       "      <td>111.813230</td>\n",
       "      <td>0.453186</td>\n",
       "      <td>43.351819</td>\n",
       "      <td>11</td>\n",
       "      <td>1</td>\n",
       "    </tr>\n",
       "    <tr>\n",
       "      <th>3</th>\n",
       "      <td>abstract</td>\n",
       "      <td>0.359395</td>\n",
       "      <td>0.459500</td>\n",
       "      <td>3.430185e+05</td>\n",
       "      <td>0.487000</td>\n",
       "      <td>0.791400</td>\n",
       "      <td>0.119480</td>\n",
       "      <td>-14.092000</td>\n",
       "      <td>0.043420</td>\n",
       "      <td>124.743200</td>\n",
       "      <td>0.304990</td>\n",
       "      <td>41.500000</td>\n",
       "      <td>1</td>\n",
       "      <td>1</td>\n",
       "    </tr>\n",
       "    <tr>\n",
       "      <th>4</th>\n",
       "      <td>abstract beats</td>\n",
       "      <td>0.353347</td>\n",
       "      <td>0.694400</td>\n",
       "      <td>2.338244e+05</td>\n",
       "      <td>0.613400</td>\n",
       "      <td>0.349403</td>\n",
       "      <td>0.102453</td>\n",
       "      <td>-6.699800</td>\n",
       "      <td>0.143453</td>\n",
       "      <td>119.398400</td>\n",
       "      <td>0.634187</td>\n",
       "      <td>58.600000</td>\n",
       "      <td>10</td>\n",
       "      <td>0</td>\n",
       "    </tr>\n",
       "    <tr>\n",
       "      <th>...</th>\n",
       "      <td>...</td>\n",
       "      <td>...</td>\n",
       "      <td>...</td>\n",
       "      <td>...</td>\n",
       "      <td>...</td>\n",
       "      <td>...</td>\n",
       "      <td>...</td>\n",
       "      <td>...</td>\n",
       "      <td>...</td>\n",
       "      <td>...</td>\n",
       "      <td>...</td>\n",
       "      <td>...</td>\n",
       "      <td>...</td>\n",
       "      <td>...</td>\n",
       "    </tr>\n",
       "    <tr>\n",
       "      <th>2659</th>\n",
       "      <td>zolo</td>\n",
       "      <td>0.218600</td>\n",
       "      <td>0.560365</td>\n",
       "      <td>2.675453e+05</td>\n",
       "      <td>0.611985</td>\n",
       "      <td>0.152665</td>\n",
       "      <td>0.190792</td>\n",
       "      <td>-11.499268</td>\n",
       "      <td>0.064295</td>\n",
       "      <td>123.283566</td>\n",
       "      <td>0.596705</td>\n",
       "      <td>33.760410</td>\n",
       "      <td>9</td>\n",
       "      <td>1</td>\n",
       "    </tr>\n",
       "    <tr>\n",
       "      <th>2660</th>\n",
       "      <td>zouglou</td>\n",
       "      <td>0.124000</td>\n",
       "      <td>0.834000</td>\n",
       "      <td>2.951470e+05</td>\n",
       "      <td>0.674000</td>\n",
       "      <td>0.000000</td>\n",
       "      <td>0.082800</td>\n",
       "      <td>-13.455000</td>\n",
       "      <td>0.072100</td>\n",
       "      <td>119.039000</td>\n",
       "      <td>0.951000</td>\n",
       "      <td>56.000000</td>\n",
       "      <td>7</td>\n",
       "      <td>0</td>\n",
       "    </tr>\n",
       "    <tr>\n",
       "      <th>2661</th>\n",
       "      <td>zouk</td>\n",
       "      <td>0.233181</td>\n",
       "      <td>0.752762</td>\n",
       "      <td>2.951100e+05</td>\n",
       "      <td>0.627238</td>\n",
       "      <td>0.301195</td>\n",
       "      <td>0.083224</td>\n",
       "      <td>-10.864476</td>\n",
       "      <td>0.038110</td>\n",
       "      <td>101.681762</td>\n",
       "      <td>0.844381</td>\n",
       "      <td>42.476190</td>\n",
       "      <td>4</td>\n",
       "      <td>1</td>\n",
       "    </tr>\n",
       "    <tr>\n",
       "      <th>2662</th>\n",
       "      <td>zouk riddim</td>\n",
       "      <td>0.052700</td>\n",
       "      <td>0.776000</td>\n",
       "      <td>2.293330e+05</td>\n",
       "      <td>0.656000</td>\n",
       "      <td>0.565000</td>\n",
       "      <td>0.044500</td>\n",
       "      <td>-14.316000</td>\n",
       "      <td>0.034100</td>\n",
       "      <td>99.981000</td>\n",
       "      <td>0.966000</td>\n",
       "      <td>24.000000</td>\n",
       "      <td>4</td>\n",
       "      <td>1</td>\n",
       "    </tr>\n",
       "    <tr>\n",
       "      <th>2663</th>\n",
       "      <td>zydeco</td>\n",
       "      <td>0.347767</td>\n",
       "      <td>0.596992</td>\n",
       "      <td>1.788379e+05</td>\n",
       "      <td>0.603610</td>\n",
       "      <td>0.017112</td>\n",
       "      <td>0.230891</td>\n",
       "      <td>-9.831258</td>\n",
       "      <td>0.050168</td>\n",
       "      <td>129.441970</td>\n",
       "      <td>0.752643</td>\n",
       "      <td>29.840152</td>\n",
       "      <td>7</td>\n",
       "      <td>1</td>\n",
       "    </tr>\n",
       "  </tbody>\n",
       "</table>\n",
       "<p>2664 rows × 14 columns</p>\n",
       "</div>"
      ],
      "text/plain": [
       "              genres  acousticness  danceability   duration_ms    energy  \\\n",
       "0              432hz      0.494780      0.299333  1.048887e+06  0.450678   \n",
       "1                 []      0.679245      0.521473  2.298526e+05  0.401522   \n",
       "2         a cappella      0.621532      0.577017  1.936522e+05  0.345694   \n",
       "3           abstract      0.359395      0.459500  3.430185e+05  0.487000   \n",
       "4     abstract beats      0.353347      0.694400  2.338244e+05  0.613400   \n",
       "...              ...           ...           ...           ...       ...   \n",
       "2659            zolo      0.218600      0.560365  2.675453e+05  0.611985   \n",
       "2660         zouglou      0.124000      0.834000  2.951470e+05  0.674000   \n",
       "2661            zouk      0.233181      0.752762  2.951100e+05  0.627238   \n",
       "2662     zouk riddim      0.052700      0.776000  2.293330e+05  0.656000   \n",
       "2663          zydeco      0.347767      0.596992  1.788379e+05  0.603610   \n",
       "\n",
       "      instrumentalness  liveness   loudness  speechiness       tempo  \\\n",
       "0             0.477762  0.131000 -16.854000     0.076817  120.285667   \n",
       "1             0.196737  0.221586 -12.679076     0.112267  112.025168   \n",
       "2             0.003799  0.127087 -12.770211     0.095324  111.813230   \n",
       "3             0.791400  0.119480 -14.092000     0.043420  124.743200   \n",
       "4             0.349403  0.102453  -6.699800     0.143453  119.398400   \n",
       "...                ...       ...        ...          ...         ...   \n",
       "2659          0.152665  0.190792 -11.499268     0.064295  123.283566   \n",
       "2660          0.000000  0.082800 -13.455000     0.072100  119.039000   \n",
       "2661          0.301195  0.083224 -10.864476     0.038110  101.681762   \n",
       "2662          0.565000  0.044500 -14.316000     0.034100   99.981000   \n",
       "2663          0.017112  0.230891  -9.831258     0.050168  129.441970   \n",
       "\n",
       "       valence  popularity  key  mode  \n",
       "0     0.221750   52.166667    5     1  \n",
       "1     0.515920   21.682005    7     1  \n",
       "2     0.453186   43.351819   11     1  \n",
       "3     0.304990   41.500000    1     1  \n",
       "4     0.634187   58.600000   10     0  \n",
       "...        ...         ...  ...   ...  \n",
       "2659  0.596705   33.760410    9     1  \n",
       "2660  0.951000   56.000000    7     0  \n",
       "2661  0.844381   42.476190    4     1  \n",
       "2662  0.966000   24.000000    4     1  \n",
       "2663  0.752643   29.840152    7     1  \n",
       "\n",
       "[2664 rows x 14 columns]"
      ]
     },
     "execution_count": 1,
     "metadata": {},
     "output_type": "execute_result"
    }
   ],
   "source": [
    " # Dependencies and Setup\n",
    "import matplotlib.pyplot as plt\n",
    "import pandas as pd\n",
    "import numpy as np\n",
    "import requests\n",
    "import gmaps\n",
    "import os\n",
    "from scipy.stats import linregress\n",
    "\n",
    "# Import API key\n",
    "from api_keys import g_key\n",
    "from api_keys import weather_api_key\n",
    "\n",
    "#genre_df = Spotify Dataset 1921-2020, 160k+ Tracks\n",
    "\n",
    "file='../Datasets/data_by_genres.csv'\n",
    "genre_df=pd.read_csv(file)\n",
    "genre_df"
   ]
  },
  {
   "cell_type": "code",
   "execution_count": 2,
   "metadata": {
    "scrolled": true
   },
   "outputs": [],
   "source": [
    "#Demostrar el grado de valence en los Top 100 de géneros populares\n",
    "genres_energy=genre_df[[\"genres\",\"energy\",\"danceability\",\"loudness\",\"popularity\",\"valence\"]]\n",
    "genres_energy=genres_energy.sort_values(by=\"energy\", ascending=False)"
   ]
  },
  {
   "cell_type": "code",
   "execution_count": 3,
   "metadata": {},
   "outputs": [],
   "source": [
    "genre = []\n",
    "valence = 0\n",
    "popularity = 0\n",
    "loudness = 0\n",
    "danceability = 0\n",
    "energy = 0\n",
    "valences = []\n",
    "popularities = []\n",
    "loudnesses = []\n",
    "danceabilities = []\n",
    "energies = []\n",
    "countries =[\"mexican\", \"australian\", \"argentine\", \"colombian\", \"chile\", \"japan\", \"chinese\", \"spanish\", \"canadian\",\n",
    "            \"american\", \"french\", \"german\", \"russia\", \"indonesian\", \"indian\", \"south african\", \"nigerian\", \n",
    "            \"belgian\", \"brazil\", \"british\", \"czech\", \"danish\", \"dutch\", \"greek\", \"icelandic\", \"israeli\", \"cook islands\", \n",
    "            \"fiji\", \"peru\", \"nz\"]\n",
    "for country in countries:\n",
    "    for i in range(len(genres_energy[\"genres\"])):\n",
    "        if country in genres_energy[\"genres\"][i]:\n",
    "            genre.append(genres_energy[\"genres\"][i])\n",
    "            valence += genres_energy[\"valence\"][i]\n",
    "            popularity += genres_energy[\"popularity\"][i]\n",
    "            loudness += genres_energy[\"loudness\"][i]\n",
    "            danceability += genres_energy[\"danceability\"][i]\n",
    "            energy += genres_energy[\"energy\"][i]\n",
    "    popularities.append(popularity/len(genre))\n",
    "    valences.append(valence/len(genre))\n",
    "    loudnesses.append(loudness/len(genre))\n",
    "    danceabilities.append(danceability/len(genre))\n",
    "    energies.append(energy/len(genre))\n",
    "    \n",
    "countries_df = pd.DataFrame({\"Country gender\": countries, \"Valence\": valences, \"Popularity\": popularities, \"Loudness\": loudnesses,\n",
    "                            \"Danceability\": danceabilities, \"Energy\": energies})"
   ]
  },
  {
   "cell_type": "markdown",
   "metadata": {},
   "source": [
    "# Latitude vs Valence, Danceability and Energy"
   ]
  },
  {
   "cell_type": "code",
   "execution_count": 11,
   "metadata": {},
   "outputs": [],
   "source": [
    "target = [\"Mexico\", \"Australia\", \"Argentina\", \"Colombia\", \"Chile\", \"Japan\", \"China\", \"Spain\",\"Canada\", \"America\", \n",
    "          \"France\", \"Germany\", \"Russia\", \"Indonesia\", \"India\", \"South Africa\", \"Nigeria\", \"Belgium\", \"Brazil\", \n",
    "          \"United Kingdom\", \"Czech Republic\", \"Denmark\", \"Netherlands\", \"Greece\", \"Iceland\", \"Israel\", \"Cook islands\", \n",
    "          \"Fiji\", \"Peru\", \"New Zeland\"]\n",
    "responses = []\n",
    "for country in target:\n",
    "        try:\n",
    "            params={\"address\": country, \"key\":g_key}\n",
    "            base_url = \"https://maps.googleapis.com/maps/api/geocode/json\"\n",
    "            response = requests.get(base_url, params=params).json()\n",
    "            responses.append(response)\n",
    "        except:\n",
    "            print(country + \"failing\")"
   ]
  },
  {
   "cell_type": "code",
   "execution_count": 13,
   "metadata": {},
   "outputs": [],
   "source": [
    "latitudes = []\n",
    "longitudes = []\n",
    "for resp in responses:\n",
    "    latitudes.append(resp[\"results\"][0][\"geometry\"][\"location\"][\"lat\"])\n",
    "    longitudes.append(resp[\"results\"][0][\"geometry\"][\"location\"][\"lng\"])"
   ]
  },
  {
   "cell_type": "code",
   "execution_count": 14,
   "metadata": {},
   "outputs": [],
   "source": [
    "coordinates_df = pd.DataFrame({\"Country\":target, \"Latitude\": latitudes, \"Longitude\": longitudes})"
   ]
  },
  {
   "cell_type": "code",
   "execution_count": 15,
   "metadata": {},
   "outputs": [
    {
     "data": {
      "text/html": [
       "<div>\n",
       "<style scoped>\n",
       "    .dataframe tbody tr th:only-of-type {\n",
       "        vertical-align: middle;\n",
       "    }\n",
       "\n",
       "    .dataframe tbody tr th {\n",
       "        vertical-align: top;\n",
       "    }\n",
       "\n",
       "    .dataframe thead th {\n",
       "        text-align: right;\n",
       "    }\n",
       "</style>\n",
       "<table border=\"1\" class=\"dataframe\">\n",
       "  <thead>\n",
       "    <tr style=\"text-align: right;\">\n",
       "      <th></th>\n",
       "      <th>Country</th>\n",
       "      <th>Latitude</th>\n",
       "      <th>Valence</th>\n",
       "      <th>Popularity</th>\n",
       "      <th>Loudness</th>\n",
       "      <th>Danceability</th>\n",
       "      <th>Energy</th>\n",
       "    </tr>\n",
       "  </thead>\n",
       "  <tbody>\n",
       "    <tr>\n",
       "      <th>0</th>\n",
       "      <td>Mexico</td>\n",
       "      <td>23.634501</td>\n",
       "      <td>0.654865</td>\n",
       "      <td>43.723646</td>\n",
       "      <td>-9.533351</td>\n",
       "      <td>0.607258</td>\n",
       "      <td>0.571412</td>\n",
       "    </tr>\n",
       "    <tr>\n",
       "      <th>1</th>\n",
       "      <td>Australia</td>\n",
       "      <td>-25.274398</td>\n",
       "      <td>0.553333</td>\n",
       "      <td>47.182220</td>\n",
       "      <td>-8.789137</td>\n",
       "      <td>0.568589</td>\n",
       "      <td>0.612060</td>\n",
       "    </tr>\n",
       "    <tr>\n",
       "      <th>2</th>\n",
       "      <td>Argentina</td>\n",
       "      <td>-38.416097</td>\n",
       "      <td>0.552665</td>\n",
       "      <td>48.300370</td>\n",
       "      <td>-8.906935</td>\n",
       "      <td>0.577643</td>\n",
       "      <td>0.607922</td>\n",
       "    </tr>\n",
       "    <tr>\n",
       "      <th>3</th>\n",
       "      <td>Colombia</td>\n",
       "      <td>4.570868</td>\n",
       "      <td>0.580249</td>\n",
       "      <td>47.514584</td>\n",
       "      <td>-8.777791</td>\n",
       "      <td>0.589612</td>\n",
       "      <td>0.616911</td>\n",
       "    </tr>\n",
       "    <tr>\n",
       "      <th>4</th>\n",
       "      <td>Chile</td>\n",
       "      <td>-35.675147</td>\n",
       "      <td>0.586239</td>\n",
       "      <td>47.866569</td>\n",
       "      <td>-8.672206</td>\n",
       "      <td>0.599598</td>\n",
       "      <td>0.613682</td>\n",
       "    </tr>\n",
       "    <tr>\n",
       "      <th>5</th>\n",
       "      <td>Japan</td>\n",
       "      <td>36.204824</td>\n",
       "      <td>0.564465</td>\n",
       "      <td>46.863352</td>\n",
       "      <td>-8.780045</td>\n",
       "      <td>0.564683</td>\n",
       "      <td>0.628826</td>\n",
       "    </tr>\n",
       "    <tr>\n",
       "      <th>6</th>\n",
       "      <td>China</td>\n",
       "      <td>35.861660</td>\n",
       "      <td>0.535777</td>\n",
       "      <td>46.179930</td>\n",
       "      <td>-9.395783</td>\n",
       "      <td>0.552971</td>\n",
       "      <td>0.601100</td>\n",
       "    </tr>\n",
       "    <tr>\n",
       "      <th>7</th>\n",
       "      <td>Spain</td>\n",
       "      <td>40.463667</td>\n",
       "      <td>0.536934</td>\n",
       "      <td>44.992632</td>\n",
       "      <td>-9.540664</td>\n",
       "      <td>0.551359</td>\n",
       "      <td>0.597286</td>\n",
       "    </tr>\n",
       "    <tr>\n",
       "      <th>8</th>\n",
       "      <td>Canada</td>\n",
       "      <td>56.130366</td>\n",
       "      <td>0.516080</td>\n",
       "      <td>44.862705</td>\n",
       "      <td>-9.589121</td>\n",
       "      <td>0.542240</td>\n",
       "      <td>0.594845</td>\n",
       "    </tr>\n",
       "    <tr>\n",
       "      <th>9</th>\n",
       "      <td>America</td>\n",
       "      <td>37.090240</td>\n",
       "      <td>0.507144</td>\n",
       "      <td>44.354185</td>\n",
       "      <td>-9.924788</td>\n",
       "      <td>0.535418</td>\n",
       "      <td>0.578607</td>\n",
       "    </tr>\n",
       "    <tr>\n",
       "      <th>10</th>\n",
       "      <td>France</td>\n",
       "      <td>46.227638</td>\n",
       "      <td>0.502609</td>\n",
       "      <td>43.976602</td>\n",
       "      <td>-9.926477</td>\n",
       "      <td>0.535196</td>\n",
       "      <td>0.578870</td>\n",
       "    </tr>\n",
       "    <tr>\n",
       "      <th>11</th>\n",
       "      <td>Germany</td>\n",
       "      <td>51.165691</td>\n",
       "      <td>0.494583</td>\n",
       "      <td>43.224360</td>\n",
       "      <td>-10.099469</td>\n",
       "      <td>0.531169</td>\n",
       "      <td>0.574875</td>\n",
       "    </tr>\n",
       "    <tr>\n",
       "      <th>12</th>\n",
       "      <td>Russia</td>\n",
       "      <td>61.524010</td>\n",
       "      <td>0.493623</td>\n",
       "      <td>42.827888</td>\n",
       "      <td>-10.140687</td>\n",
       "      <td>0.528793</td>\n",
       "      <td>0.572618</td>\n",
       "    </tr>\n",
       "    <tr>\n",
       "      <th>13</th>\n",
       "      <td>Indonesia</td>\n",
       "      <td>-0.789275</td>\n",
       "      <td>0.490528</td>\n",
       "      <td>43.100231</td>\n",
       "      <td>-10.191851</td>\n",
       "      <td>0.528819</td>\n",
       "      <td>0.568923</td>\n",
       "    </tr>\n",
       "    <tr>\n",
       "      <th>14</th>\n",
       "      <td>India</td>\n",
       "      <td>20.593684</td>\n",
       "      <td>0.492604</td>\n",
       "      <td>42.730112</td>\n",
       "      <td>-10.238184</td>\n",
       "      <td>0.529840</td>\n",
       "      <td>0.567052</td>\n",
       "    </tr>\n",
       "    <tr>\n",
       "      <th>15</th>\n",
       "      <td>South Africa</td>\n",
       "      <td>-30.559482</td>\n",
       "      <td>0.492863</td>\n",
       "      <td>42.930956</td>\n",
       "      <td>-10.242897</td>\n",
       "      <td>0.532037</td>\n",
       "      <td>0.567278</td>\n",
       "    </tr>\n",
       "    <tr>\n",
       "      <th>16</th>\n",
       "      <td>Nigeria</td>\n",
       "      <td>9.081999</td>\n",
       "      <td>0.493557</td>\n",
       "      <td>42.996540</td>\n",
       "      <td>-10.216820</td>\n",
       "      <td>0.532505</td>\n",
       "      <td>0.568200</td>\n",
       "    </tr>\n",
       "    <tr>\n",
       "      <th>17</th>\n",
       "      <td>Belgium</td>\n",
       "      <td>50.503887</td>\n",
       "      <td>0.490710</td>\n",
       "      <td>43.134451</td>\n",
       "      <td>-10.194054</td>\n",
       "      <td>0.533793</td>\n",
       "      <td>0.570050</td>\n",
       "    </tr>\n",
       "    <tr>\n",
       "      <th>18</th>\n",
       "      <td>Brazil</td>\n",
       "      <td>-14.235004</td>\n",
       "      <td>0.494504</td>\n",
       "      <td>42.851782</td>\n",
       "      <td>-10.146204</td>\n",
       "      <td>0.534923</td>\n",
       "      <td>0.575234</td>\n",
       "    </tr>\n",
       "    <tr>\n",
       "      <th>19</th>\n",
       "      <td>United Kingdom</td>\n",
       "      <td>55.378051</td>\n",
       "      <td>0.490475</td>\n",
       "      <td>42.459737</td>\n",
       "      <td>-10.281753</td>\n",
       "      <td>0.531665</td>\n",
       "      <td>0.569647</td>\n",
       "    </tr>\n",
       "    <tr>\n",
       "      <th>20</th>\n",
       "      <td>Czech Republic</td>\n",
       "      <td>49.817492</td>\n",
       "      <td>0.490571</td>\n",
       "      <td>42.219370</td>\n",
       "      <td>-10.278150</td>\n",
       "      <td>0.530746</td>\n",
       "      <td>0.568188</td>\n",
       "    </tr>\n",
       "    <tr>\n",
       "      <th>21</th>\n",
       "      <td>Denmark</td>\n",
       "      <td>56.263920</td>\n",
       "      <td>0.486317</td>\n",
       "      <td>42.131248</td>\n",
       "      <td>-10.292956</td>\n",
       "      <td>0.532145</td>\n",
       "      <td>0.569564</td>\n",
       "    </tr>\n",
       "    <tr>\n",
       "      <th>22</th>\n",
       "      <td>Netherlands</td>\n",
       "      <td>52.132633</td>\n",
       "      <td>0.485806</td>\n",
       "      <td>42.172894</td>\n",
       "      <td>-10.265424</td>\n",
       "      <td>0.533420</td>\n",
       "      <td>0.570736</td>\n",
       "    </tr>\n",
       "    <tr>\n",
       "      <th>23</th>\n",
       "      <td>Greece</td>\n",
       "      <td>39.074208</td>\n",
       "      <td>0.488059</td>\n",
       "      <td>41.667205</td>\n",
       "      <td>-10.296331</td>\n",
       "      <td>0.532128</td>\n",
       "      <td>0.567847</td>\n",
       "    </tr>\n",
       "    <tr>\n",
       "      <th>24</th>\n",
       "      <td>Iceland</td>\n",
       "      <td>64.963051</td>\n",
       "      <td>0.481474</td>\n",
       "      <td>41.872706</td>\n",
       "      <td>-10.350541</td>\n",
       "      <td>0.531350</td>\n",
       "      <td>0.562810</td>\n",
       "    </tr>\n",
       "    <tr>\n",
       "      <th>25</th>\n",
       "      <td>Israel</td>\n",
       "      <td>31.046051</td>\n",
       "      <td>0.481371</td>\n",
       "      <td>41.673822</td>\n",
       "      <td>-10.388405</td>\n",
       "      <td>0.531081</td>\n",
       "      <td>0.560540</td>\n",
       "    </tr>\n",
       "    <tr>\n",
       "      <th>26</th>\n",
       "      <td>Cook islands</td>\n",
       "      <td>-21.236736</td>\n",
       "      <td>0.482205</td>\n",
       "      <td>41.691446</td>\n",
       "      <td>-10.375522</td>\n",
       "      <td>0.531552</td>\n",
       "      <td>0.560756</td>\n",
       "    </tr>\n",
       "    <tr>\n",
       "      <th>27</th>\n",
       "      <td>Fiji</td>\n",
       "      <td>-17.713371</td>\n",
       "      <td>0.483036</td>\n",
       "      <td>41.708980</td>\n",
       "      <td>-10.362704</td>\n",
       "      <td>0.532021</td>\n",
       "      <td>0.560971</td>\n",
       "    </tr>\n",
       "    <tr>\n",
       "      <th>28</th>\n",
       "      <td>Peru</td>\n",
       "      <td>-9.189967</td>\n",
       "      <td>0.488612</td>\n",
       "      <td>41.724362</td>\n",
       "      <td>-10.298796</td>\n",
       "      <td>0.533715</td>\n",
       "      <td>0.564474</td>\n",
       "    </tr>\n",
       "    <tr>\n",
       "      <th>29</th>\n",
       "      <td>New Zeland</td>\n",
       "      <td>-40.900557</td>\n",
       "      <td>0.489496</td>\n",
       "      <td>41.760467</td>\n",
       "      <td>-10.237447</td>\n",
       "      <td>0.534689</td>\n",
       "      <td>0.564319</td>\n",
       "    </tr>\n",
       "  </tbody>\n",
       "</table>\n",
       "</div>"
      ],
      "text/plain": [
       "           Country   Latitude   Valence  Popularity   Loudness  Danceability  \\\n",
       "0           Mexico  23.634501  0.654865   43.723646  -9.533351      0.607258   \n",
       "1        Australia -25.274398  0.553333   47.182220  -8.789137      0.568589   \n",
       "2        Argentina -38.416097  0.552665   48.300370  -8.906935      0.577643   \n",
       "3         Colombia   4.570868  0.580249   47.514584  -8.777791      0.589612   \n",
       "4            Chile -35.675147  0.586239   47.866569  -8.672206      0.599598   \n",
       "5            Japan  36.204824  0.564465   46.863352  -8.780045      0.564683   \n",
       "6            China  35.861660  0.535777   46.179930  -9.395783      0.552971   \n",
       "7            Spain  40.463667  0.536934   44.992632  -9.540664      0.551359   \n",
       "8           Canada  56.130366  0.516080   44.862705  -9.589121      0.542240   \n",
       "9          America  37.090240  0.507144   44.354185  -9.924788      0.535418   \n",
       "10          France  46.227638  0.502609   43.976602  -9.926477      0.535196   \n",
       "11         Germany  51.165691  0.494583   43.224360 -10.099469      0.531169   \n",
       "12          Russia  61.524010  0.493623   42.827888 -10.140687      0.528793   \n",
       "13       Indonesia  -0.789275  0.490528   43.100231 -10.191851      0.528819   \n",
       "14           India  20.593684  0.492604   42.730112 -10.238184      0.529840   \n",
       "15    South Africa -30.559482  0.492863   42.930956 -10.242897      0.532037   \n",
       "16         Nigeria   9.081999  0.493557   42.996540 -10.216820      0.532505   \n",
       "17         Belgium  50.503887  0.490710   43.134451 -10.194054      0.533793   \n",
       "18          Brazil -14.235004  0.494504   42.851782 -10.146204      0.534923   \n",
       "19  United Kingdom  55.378051  0.490475   42.459737 -10.281753      0.531665   \n",
       "20  Czech Republic  49.817492  0.490571   42.219370 -10.278150      0.530746   \n",
       "21         Denmark  56.263920  0.486317   42.131248 -10.292956      0.532145   \n",
       "22     Netherlands  52.132633  0.485806   42.172894 -10.265424      0.533420   \n",
       "23          Greece  39.074208  0.488059   41.667205 -10.296331      0.532128   \n",
       "24         Iceland  64.963051  0.481474   41.872706 -10.350541      0.531350   \n",
       "25          Israel  31.046051  0.481371   41.673822 -10.388405      0.531081   \n",
       "26    Cook islands -21.236736  0.482205   41.691446 -10.375522      0.531552   \n",
       "27            Fiji -17.713371  0.483036   41.708980 -10.362704      0.532021   \n",
       "28            Peru  -9.189967  0.488612   41.724362 -10.298796      0.533715   \n",
       "29      New Zeland -40.900557  0.489496   41.760467 -10.237447      0.534689   \n",
       "\n",
       "      Energy  \n",
       "0   0.571412  \n",
       "1   0.612060  \n",
       "2   0.607922  \n",
       "3   0.616911  \n",
       "4   0.613682  \n",
       "5   0.628826  \n",
       "6   0.601100  \n",
       "7   0.597286  \n",
       "8   0.594845  \n",
       "9   0.578607  \n",
       "10  0.578870  \n",
       "11  0.574875  \n",
       "12  0.572618  \n",
       "13  0.568923  \n",
       "14  0.567052  \n",
       "15  0.567278  \n",
       "16  0.568200  \n",
       "17  0.570050  \n",
       "18  0.575234  \n",
       "19  0.569647  \n",
       "20  0.568188  \n",
       "21  0.569564  \n",
       "22  0.570736  \n",
       "23  0.567847  \n",
       "24  0.562810  \n",
       "25  0.560540  \n",
       "26  0.560756  \n",
       "27  0.560971  \n",
       "28  0.564474  \n",
       "29  0.564319  "
      ]
     },
     "execution_count": 15,
     "metadata": {},
     "output_type": "execute_result"
    }
   ],
   "source": [
    "merge_df = pd.merge(coordinates_df, countries_df, right_index=True, left_index=True)\n",
    "merge_df = merge_df.drop(columns=[\"Country gender\", \"Longitude\"])\n",
    "merge_df"
   ]
  },
  {
   "cell_type": "code",
   "execution_count": 16,
   "metadata": {},
   "outputs": [],
   "source": [
    "# Create Northern Hemisphere DataFrame\n",
    "country_n = []\n",
    "Latitude =[]\n",
    "Valence = []\n",
    "Popularity = []\n",
    "Loudness = []\n",
    "Danceability = []\n",
    "Energy = []\n",
    "\n",
    "for i in range(len(merge_df[\"Country\"])):\n",
    "    if (merge_df[\"Latitude\"][i] >= 0):\n",
    "        country_n.append(merge_df[\"Country\"][i])\n",
    "        Latitude.append(merge_df[\"Latitude\"][i])\n",
    "        Valence.append(merge_df[\"Valence\"][i])\n",
    "        Popularity.append(merge_df[\"Popularity\"][i])\n",
    "        Loudness.append(merge_df[\"Loudness\"][i])\n",
    "        Danceability.append(merge_df[\"Danceability\"][i])\n",
    "        Energy.append(merge_df[\"Energy\"][i])\n",
    "\n",
    "northern_df = pd.DataFrame({\"Country\": country_n, \"Latitude\": Latitude, \"Valence\": Valence, \"Popularity\": Popularity, \n",
    "                            \"Loudness\": Loudness, \"Danceability\": Danceability, \"Energy\": Energy})"
   ]
  },
  {
   "cell_type": "code",
   "execution_count": 18,
   "metadata": {},
   "outputs": [],
   "source": [
    "# Create Southern Hemisphere DataFrame\n",
    "country_n = []\n",
    "Latitude =[]\n",
    "Valence = []\n",
    "Popularity = []\n",
    "Loudness = []\n",
    "Danceability = []\n",
    "Energy = []\n",
    "\n",
    "for i in range(len(merge_df[\"Country\"])):\n",
    "    if (merge_df[\"Latitude\"][i] < 0):\n",
    "        country_n.append(merge_df[\"Country\"][i])\n",
    "        Latitude.append(merge_df[\"Latitude\"][i])\n",
    "        Valence.append(merge_df[\"Valence\"][i])\n",
    "        Popularity.append(merge_df[\"Popularity\"][i])\n",
    "        Loudness.append(merge_df[\"Loudness\"][i])\n",
    "        Danceability.append(merge_df[\"Danceability\"][i])\n",
    "        Energy.append(merge_df[\"Energy\"][i])\n",
    "\n",
    "southern_df = pd.DataFrame({\"Country\": country_n, \"Latitude\": Latitude, \"Valence\": Valence, \"Popularity\": Popularity, \n",
    "                            \"Loudness\": Loudness, \"Danceability\": Danceability, \"Energy\": Energy})"
   ]
  },
  {
   "cell_type": "code",
   "execution_count": 19,
   "metadata": {},
   "outputs": [],
   "source": [
    "#Function for scatter plots\n",
    "def northScatterPlt(x_name,y_name):\n",
    "    x_values = northern_df[x_name]\n",
    "    y_values = northern_df[y_name]\n",
    "    (slope, intercept, rvalue, pvalue, stderr) = linregress(x_values, y_values)\n",
    "    regress_values = x_values * slope + intercept\n",
    "    line_eq = \"y = \" + str(round(slope,2)) + \"x + \" + str(round(intercept,2))\n",
    "    print(f\"The r-squared is: {rvalue**2}\")\n",
    "    plt.scatter(x_values,y_values, facecolors=\"salmon\", edgecolor=\"black\")\n",
    "    plt.plot(x_values,regress_values,\"r-\")\n",
    "    plt.xlabel(x_name)\n",
    "    plt.ylabel(y_name)\n",
    "    plt.title(x_name + \" vs \" + y_name + \" in the North Hemisphere\")\n",
    "    if y_name == \"Valence\":\n",
    "        plt.annotate(line_eq,(20,0.6),fontsize=15,color=\"red\")\n",
    "    elif y_name == \"Popularity\":\n",
    "        plt.annotate(line_eq,(10,45.5),fontsize=15,color=\"red\")\n",
    "    elif y_name == \"Loudness\":\n",
    "        plt.annotate(line_eq,(10,-9.1),fontsize=15,color=\"red\")\n",
    "    elif y_name == \"Danceability\" or y_name == \"Energy\":\n",
    "        plt.annotate(line_eq,(20,0.59),fontsize=15,color=\"red\")\n",
    "    plt.show()"
   ]
  },
  {
   "cell_type": "code",
   "execution_count": 20,
   "metadata": {
    "scrolled": false
   },
   "outputs": [],
   "source": [
    "#Function for scatter plots\n",
    "def southScatterPlt(x_name,y_name):\n",
    "    x_values = southern_df[x_name]\n",
    "    y_values = southern_df[y_name]\n",
    "    (slope, intercept, rvalue, pvalue, stderr) = linregress(x_values, y_values)\n",
    "    regress_values = x_values * slope + intercept\n",
    "    line_eq = \"y = \" + str(round(slope,2)) + \"x + \" + str(round(intercept,2))\n",
    "    print(f\"The r-squared is: {rvalue**2}\")\n",
    "    plt.scatter(x_values,y_values, facecolors=\"salmon\", edgecolor=\"black\")\n",
    "    plt.plot(x_values,regress_values,\"r-\")\n",
    "    plt.xlabel(x_name)\n",
    "    plt.ylabel(y_name)\n",
    "    plt.title(x_name + \" vs \" + y_name + \" in the South Hemisphere\")\n",
    "    if y_name == \"Valence\":\n",
    "        plt.annotate(line_eq,(-20,0.54),fontsize=15,color=\"red\")\n",
    "    elif y_name == \"Popularity\":\n",
    "        plt.annotate(line_eq,(-20,46),fontsize=15,color=\"red\")\n",
    "    elif y_name == \"Loudness\":\n",
    "        plt.annotate(line_eq,(-20,-9.25),fontsize=15,color=\"red\")\n",
    "    elif y_name == \"Danceability\":\n",
    "        plt.annotate(line_eq,(-20,0.58),fontsize=15,color=\"red\")\n",
    "    elif y_name == \"Energy\":\n",
    "        plt.annotate(line_eq,(-20,0.59),fontsize=15,color=\"red\")\n",
    "    plt.show()"
   ]
  },
  {
   "cell_type": "code",
   "execution_count": 21,
   "metadata": {
    "scrolled": true
   },
   "outputs": [
    {
     "name": "stdout",
     "output_type": "stream",
     "text": [
      "The r-squared is: 0.23411963586553464\n"
     ]
    },
    {
     "data": {
      "image/png": "[encoded data removed]",
      "text/plain": [
       "<Figure size 432x288 with 1 Axes>"
      ]
     },
     "metadata": {
      "needs_background": "light"
     },
     "output_type": "display_data"
    }
   ],
   "source": [
    "northScatterPlt(\"Latitude\",\"Valence\")"
   ]
  },
  {
   "cell_type": "code",
   "execution_count": 22,
   "metadata": {},
   "outputs": [
    {
     "name": "stdout",
     "output_type": "stream",
     "text": [
      "The r-squared is: 0.25786827621979813\n"
     ]
    },
    {
     "data": {
      "image/png": "[encoded data removed]",
      "text/plain": [
       "<Figure size 432x288 with 1 Axes>"
      ]
     },
     "metadata": {
      "needs_background": "light"
     },
     "output_type": "display_data"
    }
   ],
   "source": [
    "southScatterPlt(\"Latitude\",\"Valence\")"
   ]
  },
  {
   "cell_type": "code",
   "execution_count": 23,
   "metadata": {
    "scrolled": false
   },
   "outputs": [
    {
     "name": "stdout",
     "output_type": "stream",
     "text": [
      "The r-squared is: 0.17318033599484878\n"
     ]
    },
    {
     "data": {
      "image/png": "[encoded data removed]",
      "text/plain": [
       "<Figure size 432x288 with 1 Axes>"
      ]
     },
     "metadata": {
      "needs_background": "light"
     },
     "output_type": "display_data"
    }
   ],
   "source": [
    "northScatterPlt(\"Latitude\",\"Popularity\")"
   ]
  },
  {
   "cell_type": "code",
   "execution_count": 24,
   "metadata": {},
   "outputs": [
    {
     "name": "stdout",
     "output_type": "stream",
     "text": [
      "The r-squared is: 0.21880136600247968\n"
     ]
    },
    {
     "data": {
      "image/png": "[encoded data removed]",
      "text/plain": [
       "<Figure size 432x288 with 1 Axes>"
      ]
     },
     "metadata": {
      "needs_background": "light"
     },
     "output_type": "display_data"
    }
   ],
   "source": [
    "southScatterPlt(\"Latitude\",\"Popularity\")"
   ]
  },
  {
   "cell_type": "code",
   "execution_count": 25,
   "metadata": {
    "scrolled": false
   },
   "outputs": [
    {
     "name": "stdout",
     "output_type": "stream",
     "text": [
      "The r-squared is: 0.18267847618420474\n"
     ]
    },
    {
     "data": {
      "image/png": "[encoded data removed]",
      "text/plain": [
       "<Figure size 432x288 with 1 Axes>"
      ]
     },
     "metadata": {
      "needs_background": "light"
     },
     "output_type": "display_data"
    }
   ],
   "source": [
    "northScatterPlt(\"Latitude\",\"Loudness\")"
   ]
  },
  {
   "cell_type": "code",
   "execution_count": 26,
   "metadata": {},
   "outputs": [
    {
     "name": "stdout",
     "output_type": "stream",
     "text": [
      "The r-squared is: 0.24044342720462236\n"
     ]
    },
    {
     "data": {
      "image/png": "[encoded data removed]",
      "text/plain": [
       "<Figure size 432x288 with 1 Axes>"
      ]
     },
     "metadata": {
      "needs_background": "light"
     },
     "output_type": "display_data"
    }
   ],
   "source": [
    "southScatterPlt(\"Latitude\",\"Loudness\")"
   ]
  },
  {
   "cell_type": "code",
   "execution_count": 27,
   "metadata": {
    "scrolled": true
   },
   "outputs": [
    {
     "name": "stdout",
     "output_type": "stream",
     "text": [
      "The r-squared is: 0.27766207893189404\n"
     ]
    },
    {
     "data": {
      "image/png": "[encoded data removed]",
      "text/plain": [
       "<Figure size 432x288 with 1 Axes>"
      ]
     },
     "metadata": {
      "needs_background": "light"
     },
     "output_type": "display_data"
    }
   ],
   "source": [
    "northScatterPlt(\"Latitude\",\"Danceability\")"
   ]
  },
  {
   "cell_type": "code",
   "execution_count": 28,
   "metadata": {},
   "outputs": [
    {
     "name": "stdout",
     "output_type": "stream",
     "text": [
      "The r-squared is: 0.307064825942965\n"
     ]
    },
    {
     "data": {
      "image/png": "[encoded data removed]",
      "text/plain": [
       "<Figure size 432x288 with 1 Axes>"
      ]
     },
     "metadata": {
      "needs_background": "light"
     },
     "output_type": "display_data"
    }
   ],
   "source": [
    "southScatterPlt(\"Latitude\",\"Danceability\")"
   ]
  },
  {
   "cell_type": "code",
   "execution_count": 29,
   "metadata": {
    "scrolled": true
   },
   "outputs": [
    {
     "name": "stdout",
     "output_type": "stream",
     "text": [
      "The r-squared is: 0.08219289878769344\n"
     ]
    },
    {
     "data": {
      "image/png": "[encoded data removed]",
      "text/plain": [
       "<Figure size 432x288 with 1 Axes>"
      ]
     },
     "metadata": {
      "needs_background": "light"
     },
     "output_type": "display_data"
    }
   ],
   "source": [
    "northScatterPlt(\"Latitude\",\"Energy\")"
   ]
  },
  {
   "cell_type": "code",
   "execution_count": 30,
   "metadata": {},
   "outputs": [
    {
     "name": "stdout",
     "output_type": "stream",
     "text": [
      "The r-squared is: 0.20240775623419968\n"
     ]
    },
    {
     "data": {
      "image/png": "[encoded data removed]",
      "text/plain": [
       "<Figure size 432x288 with 1 Axes>"
      ]
     },
     "metadata": {
      "needs_background": "light"
     },
     "output_type": "display_data"
    }
   ],
   "source": [
    "southScatterPlt(\"Latitude\",\"Energy\")"
   ]
  },
  {
   "cell_type": "code",
   "execution_count": 31,
   "metadata": {},
   "outputs": [],
   "source": [
    "# Access maps with unique API key\n",
    "gmaps.configure(api_key=g_key)"
   ]
  },
  {
   "cell_type": "code",
   "execution_count": 32,
   "metadata": {},
   "outputs": [
    {
     "data": {
      "application/vnd.jupyter.widget-view+json": {
       "model_id": "b5a2d76a673a48798809358a691e7563",
       "version_major": 2,
       "version_minor": 0
      },
      "text/plain": [
       "Figure(layout=FigureLayout(height='420px'))"
      ]
     },
     "metadata": {},
     "output_type": "display_data"
    }
   ],
   "source": [
    "# Store latitude and longitude in coordinates\n",
    "coordinates = coordinates_df[[\"Latitude\", \"Longitude\"]]\n",
    "# Plote Heatmap\n",
    "fig = gmaps.figure(map_type=\"TERRAIN\")\n",
    "# Create heatmap layer\n",
    "heat_layer = gmaps.heatmap_layer(coordinates, weights=merge_df[\"Valence\"], dissipating=False, max_intensity=1, point_radius=0.5)\n",
    "#Add layer\n",
    "fig.add_layer(heat_layer)\n",
    "#Display figure\n",
    "fig"
   ]
  },
  {
   "cell_type": "code",
   "execution_count": null,
   "metadata": {},
   "outputs": [],
   "source": []
  }
 ],
 "metadata": {
  "kernelspec": {
   "display_name": "Python 3",
   "language": "python",
   "name": "python3"
  },
  "language_info": {
   "codemirror_mode": {
    "name": "ipython",
    "version": 3
   },
   "file_extension": ".py",
   "mimetype": "text/x-python",
   "name": "python",
   "nbconvert_exporter": "python",
   "pygments_lexer": "ipython3",
   "version": "3.8.3"
  }
 },
 "nbformat": 4,
 "nbformat_minor": 4
}
