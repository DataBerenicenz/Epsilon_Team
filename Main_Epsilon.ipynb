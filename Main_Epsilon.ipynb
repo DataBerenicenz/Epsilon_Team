{
 "cells": [
  {
   "cell_type": "markdown",
   "metadata": {},
   "source": [
    "# EPSILON PROJECT \n",
    "\n",
    "## Summary:\n",
    "\n",
    "Epsilon Productions is a global music company that is planning to record and launch new singles next year.\n",
    "\n",
    "To ensure the success of our artists we did the following market analysis of the listened and produced music in the countries where we have presence.\n",
    "\n",
    "**Analyzing:** \n",
    "* Valence: A measure from 0.0 to 1.0 describing the musical positiveness conveyed by a track. Tracks with high valence sound more positive while tracks with low valence sound more negative\n",
    "\n",
    "* Energy: Measure from 0.0 to 1.0 and represents a percentual measure of intensity and activity. Typically energetuc tracks feel fast, loud and noisy.\n",
    "\n",
    "* Dancebility: describes how suitable a track is for dancing based on a combination of musical elements. A value of 0.0 is least danceable and 1.0 is most danceable\n",
    "\n",
    "\n",
    "### Analysis\n",
    "\n",
    "- [Time & Country Analysis](https://github.com/DataBerenicenz/Epsilon_Team/blob/main/%2BJesus/NOTEBOOK%20final.ipynb)\n",
    "- [2020 Valence](https://github.com/DataBerenicenz/Epsilon_Team/blob/main/%2BJesus/Spotify%202020%20Songs%20Attributes.ipynb)\n",
    "- [Consumption VS Production](https://github.com/DataBerenicenz/Epsilon_Team/blob/main/Jonathan-last-notebook.ipynb)\n",
    "- [Latitude](https://github.com/DataBerenicenz/Epsilon_Team/blob/main/Gabriela-last-notebook.ipynb)"
   ]
  },
  {
   "cell_type": "code",
   "execution_count": null,
   "metadata": {},
   "outputs": [],
   "source": []
  }
 ],
 "metadata": {
  "kernelspec": {
   "display_name": "Python 3",
   "language": "python",
   "name": "python3"
  },
  "language_info": {
   "codemirror_mode": {
    "name": "ipython",
    "version": 3
   },
   "file_extension": ".py",
   "mimetype": "text/x-python",
   "name": "python",
   "nbconvert_exporter": "python",
   "pygments_lexer": "ipython3",
   "version": "3.8.3"
  }
 },
 "nbformat": 4,
 "nbformat_minor": 4
}
