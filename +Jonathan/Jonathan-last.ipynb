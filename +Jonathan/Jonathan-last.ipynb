{
 "cells": [
  {
   "cell_type": "code",
   "execution_count": 1,
   "metadata": {},
   "outputs": [
    {
     "data": {
      "text/html": [
       "<div>\n",
       "<style scoped>\n",
       "    .dataframe tbody tr th:only-of-type {\n",
       "        vertical-align: middle;\n",
       "    }\n",
       "\n",
       "    .dataframe tbody tr th {\n",
       "        vertical-align: top;\n",
       "    }\n",
       "\n",
       "    .dataframe thead th {\n",
       "        text-align: right;\n",
       "    }\n",
       "</style>\n",
       "<table border=\"1\" class=\"dataframe\">\n",
       "  <thead>\n",
       "    <tr style=\"text-align: right;\">\n",
       "      <th></th>\n",
       "      <th>index</th>\n",
       "      <th>genres</th>\n",
       "      <th>energy</th>\n",
       "      <th>danceability</th>\n",
       "      <th>loudness</th>\n",
       "      <th>popularity</th>\n",
       "      <th>valence</th>\n",
       "    </tr>\n",
       "  </thead>\n",
       "  <tbody>\n",
       "    <tr>\n",
       "      <th>0</th>\n",
       "      <td>1361</td>\n",
       "      <td>japanese post-hardcore</td>\n",
       "      <td>0.987500</td>\n",
       "      <td>0.26600</td>\n",
       "      <td>-0.13150</td>\n",
       "      <td>61.50</td>\n",
       "      <td>0.4350</td>\n",
       "    </tr>\n",
       "    <tr>\n",
       "      <th>1</th>\n",
       "      <td>1428</td>\n",
       "      <td>kawaii metal</td>\n",
       "      <td>0.985000</td>\n",
       "      <td>0.61600</td>\n",
       "      <td>-1.59800</td>\n",
       "      <td>53.00</td>\n",
       "      <td>0.4870</td>\n",
       "    </tr>\n",
       "    <tr>\n",
       "      <th>2</th>\n",
       "      <td>44</td>\n",
       "      <td>alt-idol</td>\n",
       "      <td>0.985000</td>\n",
       "      <td>0.61600</td>\n",
       "      <td>-1.59800</td>\n",
       "      <td>53.00</td>\n",
       "      <td>0.4870</td>\n",
       "    </tr>\n",
       "    <tr>\n",
       "      <th>3</th>\n",
       "      <td>1354</td>\n",
       "      <td>japanese indie rock</td>\n",
       "      <td>0.981000</td>\n",
       "      <td>0.52600</td>\n",
       "      <td>-1.82000</td>\n",
       "      <td>70.00</td>\n",
       "      <td>0.7810</td>\n",
       "    </tr>\n",
       "    <tr>\n",
       "      <th>4</th>\n",
       "      <td>1807</td>\n",
       "      <td>norwegian punk rock</td>\n",
       "      <td>0.980000</td>\n",
       "      <td>0.27500</td>\n",
       "      <td>-0.86600</td>\n",
       "      <td>55.00</td>\n",
       "      <td>0.4550</td>\n",
       "    </tr>\n",
       "    <tr>\n",
       "      <th>...</th>\n",
       "      <td>...</td>\n",
       "      <td>...</td>\n",
       "      <td>...</td>\n",
       "      <td>...</td>\n",
       "      <td>...</td>\n",
       "      <td>...</td>\n",
       "      <td>...</td>\n",
       "    </tr>\n",
       "    <tr>\n",
       "      <th>717</th>\n",
       "      <td>1280</td>\n",
       "      <td>irish indie</td>\n",
       "      <td>0.088900</td>\n",
       "      <td>0.52100</td>\n",
       "      <td>-19.45700</td>\n",
       "      <td>64.00</td>\n",
       "      <td>0.0479</td>\n",
       "    </tr>\n",
       "    <tr>\n",
       "      <th>718</th>\n",
       "      <td>1506</td>\n",
       "      <td>lldm</td>\n",
       "      <td>0.085700</td>\n",
       "      <td>0.58400</td>\n",
       "      <td>-23.72500</td>\n",
       "      <td>52.00</td>\n",
       "      <td>0.4750</td>\n",
       "    </tr>\n",
       "    <tr>\n",
       "      <th>719</th>\n",
       "      <td>2051</td>\n",
       "      <td>quatuor a cordes</td>\n",
       "      <td>0.043900</td>\n",
       "      <td>0.28600</td>\n",
       "      <td>-24.74500</td>\n",
       "      <td>51.00</td>\n",
       "      <td>0.0932</td>\n",
       "    </tr>\n",
       "    <tr>\n",
       "      <th>720</th>\n",
       "      <td>2656</td>\n",
       "      <td>zen</td>\n",
       "      <td>0.027600</td>\n",
       "      <td>0.15500</td>\n",
       "      <td>-24.86600</td>\n",
       "      <td>66.00</td>\n",
       "      <td>0.1220</td>\n",
       "    </tr>\n",
       "    <tr>\n",
       "      <th>721</th>\n",
       "      <td>183</td>\n",
       "      <td>baltic classical</td>\n",
       "      <td>0.019407</td>\n",
       "      <td>0.23675</td>\n",
       "      <td>-33.47625</td>\n",
       "      <td>52.25</td>\n",
       "      <td>0.1042</td>\n",
       "    </tr>\n",
       "  </tbody>\n",
       "</table>\n",
       "<p>722 rows × 7 columns</p>\n",
       "</div>"
      ],
      "text/plain": [
       "     index                  genres    energy  danceability  loudness  \\\n",
       "0     1361  japanese post-hardcore  0.987500       0.26600  -0.13150   \n",
       "1     1428            kawaii metal  0.985000       0.61600  -1.59800   \n",
       "2       44                alt-idol  0.985000       0.61600  -1.59800   \n",
       "3     1354     japanese indie rock  0.981000       0.52600  -1.82000   \n",
       "4     1807     norwegian punk rock  0.980000       0.27500  -0.86600   \n",
       "..     ...                     ...       ...           ...       ...   \n",
       "717   1280             irish indie  0.088900       0.52100 -19.45700   \n",
       "718   1506                    lldm  0.085700       0.58400 -23.72500   \n",
       "719   2051        quatuor a cordes  0.043900       0.28600 -24.74500   \n",
       "720   2656                     zen  0.027600       0.15500 -24.86600   \n",
       "721    183        baltic classical  0.019407       0.23675 -33.47625   \n",
       "\n",
       "     popularity  valence  \n",
       "0         61.50   0.4350  \n",
       "1         53.00   0.4870  \n",
       "2         53.00   0.4870  \n",
       "3         70.00   0.7810  \n",
       "4         55.00   0.4550  \n",
       "..          ...      ...  \n",
       "717       64.00   0.0479  \n",
       "718       52.00   0.4750  \n",
       "719       51.00   0.0932  \n",
       "720       66.00   0.1220  \n",
       "721       52.25   0.1042  \n",
       "\n",
       "[722 rows x 7 columns]"
      ]
     },
     "execution_count": 1,
     "metadata": {},
     "output_type": "execute_result"
    }
   ],
   "source": [
    "import pandas as pd\n",
    "import os\n",
    "import matplotlib.pyplot as plt\n",
    "import numpy as np\n",
    "\n",
    "#genre_df = Spotify Dataset 1921-2020, 160k+ Tracks\n",
    "\n",
    "\n",
    "genre_df = pd.read_csv(\"../Datasets/data_by_genres.csv\")\n",
    "#Demostrar el grado de valence en los Top 100 de géneros populares\n",
    "\n",
    "genres_popularity=genre_df[[\"genres\",\"popularity\",\"valence\"]]\n",
    "genres_popularity=genres_popularity.sort_values(by=\"popularity\", ascending=False)\n",
    "genres_energy=genre_df[[\"genres\",\"energy\",\"danceability\",\"loudness\",\"popularity\",\"valence\"]]\n",
    "genres_energy=genres_energy.sort_values(by=\"energy\", ascending=False)\n",
    "genres_energy.head(100)\n",
    "\n",
    "genres_energy = genres_energy[genres_energy['popularity'] > 50]  \n",
    "\n",
    "generes_energy_fil = genres_energy.reset_index()\n",
    "generes_energy_fil"
   ]
  },
  {
   "cell_type": "code",
   "execution_count": 2,
   "metadata": {},
   "outputs": [
    {
     "data": {
      "text/html": [
       "<div>\n",
       "<style scoped>\n",
       "    .dataframe tbody tr th:only-of-type {\n",
       "        vertical-align: middle;\n",
       "    }\n",
       "\n",
       "    .dataframe tbody tr th {\n",
       "        vertical-align: top;\n",
       "    }\n",
       "\n",
       "    .dataframe thead th {\n",
       "        text-align: right;\n",
       "    }\n",
       "</style>\n",
       "<table border=\"1\" class=\"dataframe\">\n",
       "  <thead>\n",
       "    <tr style=\"text-align: right;\">\n",
       "      <th></th>\n",
       "      <th>country</th>\n",
       "      <th>valence</th>\n",
       "      <th>popularity</th>\n",
       "      <th>loudness</th>\n",
       "      <th>danceability</th>\n",
       "      <th>energy</th>\n",
       "    </tr>\n",
       "  </thead>\n",
       "  <tbody>\n",
       "    <tr>\n",
       "      <th>0</th>\n",
       "      <td>mexican</td>\n",
       "      <td>0.603176</td>\n",
       "      <td>55.859433</td>\n",
       "      <td>-7.460313</td>\n",
       "      <td>0.614641</td>\n",
       "      <td>0.647162</td>\n",
       "    </tr>\n",
       "    <tr>\n",
       "      <th>1</th>\n",
       "      <td>australian</td>\n",
       "      <td>0.501752</td>\n",
       "      <td>56.544576</td>\n",
       "      <td>-6.842534</td>\n",
       "      <td>0.582357</td>\n",
       "      <td>0.666875</td>\n",
       "    </tr>\n",
       "    <tr>\n",
       "      <th>2</th>\n",
       "      <td>argentine</td>\n",
       "      <td>0.504964</td>\n",
       "      <td>56.519748</td>\n",
       "      <td>-7.511832</td>\n",
       "      <td>0.590111</td>\n",
       "      <td>0.640539</td>\n",
       "    </tr>\n",
       "    <tr>\n",
       "      <th>3</th>\n",
       "      <td>colombian</td>\n",
       "      <td>0.519710</td>\n",
       "      <td>56.306306</td>\n",
       "      <td>-7.470044</td>\n",
       "      <td>0.597814</td>\n",
       "      <td>0.643766</td>\n",
       "    </tr>\n",
       "    <tr>\n",
       "      <th>4</th>\n",
       "      <td>chile</td>\n",
       "      <td>0.541095</td>\n",
       "      <td>57.126351</td>\n",
       "      <td>-7.291447</td>\n",
       "      <td>0.619472</td>\n",
       "      <td>0.647873</td>\n",
       "    </tr>\n",
       "  </tbody>\n",
       "</table>\n",
       "</div>"
      ],
      "text/plain": [
       "      country   valence  popularity  loudness  danceability    energy\n",
       "0     mexican  0.603176   55.859433 -7.460313      0.614641  0.647162\n",
       "1  australian  0.501752   56.544576 -6.842534      0.582357  0.666875\n",
       "2   argentine  0.504964   56.519748 -7.511832      0.590111  0.640539\n",
       "3   colombian  0.519710   56.306306 -7.470044      0.597814  0.643766\n",
       "4       chile  0.541095   57.126351 -7.291447      0.619472  0.647873"
      ]
     },
     "execution_count": 2,
     "metadata": {},
     "output_type": "execute_result"
    }
   ],
   "source": [
    "genre = []\n",
    "valence = 0\n",
    "popularity = 0\n",
    "loudness = 0\n",
    "danceability = 0\n",
    "energy = 0\n",
    "valences = []\n",
    "popularities = []\n",
    "loudnesses = []\n",
    "danceabilities = []\n",
    "energies = []\n",
    "countries =[\"mexican\", \"australian\", \"argentine\", \"colombian\", \"chile\", \"japan\", \"chinese\", \"spanish\", \"canadian\",\n",
    "            \"american\", \"french\", \"german\", \"russia\", \"indonesian\", \"indian\", \"south african\", \"nigerian\",\n",
    "           \"belgian\", \"brazil\", \"british\", \"czech\", \"danish\", \"dutch\", \"greek\", \"icelandic\", \"israeli\"]\n",
    "for country in countries:\n",
    "    for i in range(len(generes_energy_fil[\"genres\"])):\n",
    "        if country in generes_energy_fil[\"genres\"][i]:\n",
    "            genre.append(generes_energy_fil[\"genres\"][i])\n",
    "            valence += generes_energy_fil[\"valence\"][i]\n",
    "            popularity += generes_energy_fil[\"popularity\"][i]\n",
    "            loudness += generes_energy_fil[\"loudness\"][i]\n",
    "            danceability += generes_energy_fil[\"danceability\"][i]\n",
    "            energy += generes_energy_fil[\"energy\"][i]\n",
    "    popularities.append(popularity/len(genre))\n",
    "    valences.append(valence/len(genre))\n",
    "    loudnesses.append(loudness/len(genre))\n",
    "    danceabilities.append(danceability/len(genre))\n",
    "    energies.append(energy/len(genre))\n",
    "\n",
    "countries_filtered_df = pd.DataFrame({\"country\": countries, \"valence\": valences, \"popularity\": popularities, \"loudness\": loudnesses,\n",
    "                            \"danceability\": danceabilities, \"energy\": energies})\n",
    "countries_filtered_df.head()"
   ]
  },
  {
   "cell_type": "code",
   "execution_count": 3,
   "metadata": {},
   "outputs": [],
   "source": [
    "#Integrate most popular music per country features (Danceability, Energy, Loudnes and Valence) based on Billboard's\n",
    "#International charts from 2019-20, focused on the countries listed next.\n",
    "\n",
    "#Set variables to scan through the csv files\n",
    "countries = [\"ARG\",\"MEX\",\"AUS\", \"CAN\", \"ESP\", \"FRA\", \"GBP\", \"GER\", \"ITA\",\"SUI\",\"EUR\", \"JPN\", \"KOR\"]\n",
    "col_list = [\"danceability\", \"energy\", \"valence\", \"loudness\"]\n",
    "files_name=[]\n",
    "by_nationality=[]\n",
    "\n",
    "#Define a function to crawl the csv's and define variables for each country containing Danceability, Energy and Valence\n",
    "#criteria and store them in by_nationality.\n",
    "\n",
    "for x in countries:\n",
    "    file=f'../Datasets/Billboard International Charts (2019-Aug 2020)/{x}.csv'\n",
    "    if x==\"ARG\":        \n",
    "        ar_con = ARG=by_nationality.append((pd.DataFrame(pd.read_csv(file,usecols=col_list)\n",
    "                                   [col_list])).mean())\n",
    "    elif x==\"AUS\":      \n",
    "        au_con = AUS=by_nationality.append((pd.DataFrame(pd.read_csv(file,usecols=col_list)\n",
    "                                   [col_list])).mean())\n",
    "    elif x==\"CAN\":\n",
    "        ca_con = CAN=by_nationality.append((pd.DataFrame(pd.read_csv(file,usecols=col_list)\n",
    "                                   [col_list])).mean())\n",
    "    elif x==\"ESP\":\n",
    "        es_con = ESP=by_nationality.append((pd.DataFrame(pd.read_csv(file,usecols=col_list)\n",
    "                                   [col_list])).mean())\n",
    "    elif x==\"EUR\":\n",
    "        eu_con = EUR=by_nationality.append((pd.DataFrame(pd.read_csv(file,usecols=col_list)\n",
    "                                   [col_list])).mean())\n",
    "    elif x==\"FRA\":\n",
    "        fr_con = FRA=by_nationality.append((pd.DataFrame(pd.read_csv(file,usecols=col_list)\n",
    "                                   [col_list])).mean())\n",
    "    elif x==\"GBP\":\n",
    "        gb_con = GBP=by_nationality.append((pd.DataFrame(pd.read_csv(file,usecols=col_list)\n",
    "                                   [col_list])).mean())\n",
    "    elif x==\"GER\":\n",
    "        gr_con = GER=by_nationality.append((pd.DataFrame(pd.read_csv(file,usecols=col_list)\n",
    "                                   [col_list])).mean())\n",
    "    elif x==\"ITA\":\n",
    "        it_con = ITA=by_nationality.append((pd.DataFrame(pd.read_csv(file,usecols=col_list)\n",
    "                                   [col_list])).mean())\n",
    "    elif x==\"JPN\":\n",
    "        jp_con = JPN=by_nationality.append((pd.DataFrame(pd.read_csv(file,usecols=col_list)\n",
    "                                   [col_list])).mean())\n",
    "    elif x==\"KOR\":\n",
    "        ko_con = KOR=by_nationality.append((pd.DataFrame(pd.read_csv(file,usecols=col_list)\n",
    "                                   [col_list])).mean())\n",
    "    elif x==\"MEX\":\n",
    "        mx_con = MEX=by_nationality.append((pd.DataFrame(pd.read_csv(file,usecols=col_list)\n",
    "                                   [col_list])).mean())\n",
    "    elif x==\"SUI\":\n",
    "        su_con = SUI=by_nationality.append((pd.DataFrame(pd.read_csv(file,usecols=col_list)\n",
    "                                   [col_list])).mean())\n"
   ]
  },
  {
   "cell_type": "code",
   "execution_count": 4,
   "metadata": {},
   "outputs": [],
   "source": [
    "#Create a df with the list items storer under by nationality\n",
    "by_nat = pd.DataFrame(by_nationality, index=countries)\n",
    "\n",
    "#Reset index to match with the Production df columns\n",
    "by_nat = by_nat.rename(index={'ARG': 'ARG_cons','MEX': 'MEX_cons',\n",
    "                             'AUS' : 'AUS_cons', 'CAN' : 'CAN_cons',\n",
    "                             'GBP' : 'GBP_cons', 'GER' : 'GER_cons',\n",
    "                             'JPN' : 'JPN_cons'})\n",
    "#Turn negative Db to positive values\n",
    "by_nat = by_nat.abs()"
   ]
  },
  {
   "cell_type": "code",
   "execution_count": 5,
   "metadata": {},
   "outputs": [],
   "source": [
    "#Homologate production (countries_df) shape to match consumption (by_nat)\n",
    "new_countries_df = countries_filtered_df.set_index('country')\n",
    "\n",
    "#Select the columns for studied countries\n",
    "new_countries_df = new_countries_df.loc[['argentine', 'mexican', 'australian',\n",
    "                                         'canadian', 'british', 'german','japan']]\n",
    "\n",
    "#Reset index to match consumption df\n",
    "new_countries_df = new_countries_df.rename(index={'argentine': 'ARG_prod','mexican': 'MEX_prod',\n",
    "                                                 'australian' : 'AUS_prod', 'canadian' : 'CAN_prod',\n",
    "                                                 'british' : 'GBP_prod', 'german' : 'GER_prod',\n",
    "                                                 'japan' : 'JPN_prod'})\n",
    "\n",
    "#Lowercase column labels to homologate with consumption df\n",
    "new_countries_df.columns = new_countries_df.columns.str.lower()\n",
    "\n",
    "#Turn negative Db to positive values\n",
    "new_countries_df = new_countries_df.abs()"
   ]
  },
  {
   "cell_type": "code",
   "execution_count": 6,
   "metadata": {},
   "outputs": [
    {
     "data": {
      "text/html": [
       "<div>\n",
       "<style scoped>\n",
       "    .dataframe tbody tr th:only-of-type {\n",
       "        vertical-align: middle;\n",
       "    }\n",
       "\n",
       "    .dataframe tbody tr th {\n",
       "        vertical-align: top;\n",
       "    }\n",
       "\n",
       "    .dataframe thead th {\n",
       "        text-align: right;\n",
       "    }\n",
       "</style>\n",
       "<table border=\"1\" class=\"dataframe\">\n",
       "  <thead>\n",
       "    <tr style=\"text-align: right;\">\n",
       "      <th></th>\n",
       "      <th>ARG_cons</th>\n",
       "      <th>MEX_cons</th>\n",
       "      <th>AUS_cons</th>\n",
       "      <th>CAN_cons</th>\n",
       "      <th>GBP_cons</th>\n",
       "      <th>GER_cons</th>\n",
       "      <th>JPN_cons</th>\n",
       "      <th>ARG_prod</th>\n",
       "      <th>MEX_prod</th>\n",
       "      <th>AUS_prod</th>\n",
       "      <th>CAN_prod</th>\n",
       "      <th>GBP_prod</th>\n",
       "      <th>GER_prod</th>\n",
       "      <th>JPN_prod</th>\n",
       "    </tr>\n",
       "  </thead>\n",
       "  <tbody>\n",
       "    <tr>\n",
       "      <th>danceability</th>\n",
       "      <td>0.768989</td>\n",
       "      <td>0.741207</td>\n",
       "      <td>0.716034</td>\n",
       "      <td>0.768575</td>\n",
       "      <td>0.718678</td>\n",
       "      <td>0.722793</td>\n",
       "      <td>0.561953</td>\n",
       "      <td>0.590111</td>\n",
       "      <td>0.614641</td>\n",
       "      <td>0.582357</td>\n",
       "      <td>0.590853</td>\n",
       "      <td>0.605942</td>\n",
       "      <td>0.599660</td>\n",
       "      <td>0.591520</td>\n",
       "    </tr>\n",
       "    <tr>\n",
       "      <th>energy</th>\n",
       "      <td>0.771080</td>\n",
       "      <td>0.699149</td>\n",
       "      <td>0.593791</td>\n",
       "      <td>0.570161</td>\n",
       "      <td>0.625690</td>\n",
       "      <td>0.653103</td>\n",
       "      <td>0.713662</td>\n",
       "      <td>0.640539</td>\n",
       "      <td>0.647162</td>\n",
       "      <td>0.666875</td>\n",
       "      <td>0.653488</td>\n",
       "      <td>0.640430</td>\n",
       "      <td>0.642714</td>\n",
       "      <td>0.680549</td>\n",
       "    </tr>\n",
       "    <tr>\n",
       "      <th>valence</th>\n",
       "      <td>0.668241</td>\n",
       "      <td>0.710977</td>\n",
       "      <td>0.521402</td>\n",
       "      <td>0.576659</td>\n",
       "      <td>0.568583</td>\n",
       "      <td>0.521989</td>\n",
       "      <td>0.496940</td>\n",
       "      <td>0.504964</td>\n",
       "      <td>0.603176</td>\n",
       "      <td>0.501752</td>\n",
       "      <td>0.504243</td>\n",
       "      <td>0.498338</td>\n",
       "      <td>0.504896</td>\n",
       "      <td>0.536833</td>\n",
       "    </tr>\n",
       "    <tr>\n",
       "      <th>loudness</th>\n",
       "      <td>3.399483</td>\n",
       "      <td>5.121724</td>\n",
       "      <td>6.323402</td>\n",
       "      <td>6.623161</td>\n",
       "      <td>6.225448</td>\n",
       "      <td>6.312805</td>\n",
       "      <td>6.586612</td>\n",
       "      <td>7.511832</td>\n",
       "      <td>7.460313</td>\n",
       "      <td>6.842534</td>\n",
       "      <td>7.444228</td>\n",
       "      <td>7.775069</td>\n",
       "      <td>7.660068</td>\n",
       "      <td>6.716750</td>\n",
       "    </tr>\n",
       "  </tbody>\n",
       "</table>\n",
       "</div>"
      ],
      "text/plain": [
       "              ARG_cons  MEX_cons  AUS_cons  CAN_cons  GBP_cons  GER_cons  \\\n",
       "danceability  0.768989  0.741207  0.716034  0.768575  0.718678  0.722793   \n",
       "energy        0.771080  0.699149  0.593791  0.570161  0.625690  0.653103   \n",
       "valence       0.668241  0.710977  0.521402  0.576659  0.568583  0.521989   \n",
       "loudness      3.399483  5.121724  6.323402  6.623161  6.225448  6.312805   \n",
       "\n",
       "              JPN_cons  ARG_prod  MEX_prod  AUS_prod  CAN_prod  GBP_prod  \\\n",
       "danceability  0.561953  0.590111  0.614641  0.582357  0.590853  0.605942   \n",
       "energy        0.713662  0.640539  0.647162  0.666875  0.653488  0.640430   \n",
       "valence       0.496940  0.504964  0.603176  0.501752  0.504243  0.498338   \n",
       "loudness      6.586612  7.511832  7.460313  6.842534  7.444228  7.775069   \n",
       "\n",
       "              GER_prod  JPN_prod  \n",
       "danceability  0.599660  0.591520  \n",
       "energy        0.642714  0.680549  \n",
       "valence       0.504896  0.536833  \n",
       "loudness      7.660068  6.716750  "
      ]
     },
     "execution_count": 6,
     "metadata": {},
     "output_type": "execute_result"
    }
   ],
   "source": [
    "#Merge both df to plot comparissons. Drop criteria that can't be compared (popularity, loudness)\n",
    "vertical_stack = pd.concat([by_nat, new_countries_df], axis=0).drop(['popularity'], axis=1)\n",
    "\n",
    "#Clean dataframe by dropping rows that were only present in one df and transpose it to get an easy plotting shape\n",
    "vertical_stack = vertical_stack.drop(['ESP','FRA','ITA','SUI','KOR','EUR']).T\n",
    "\n",
    "vertical_stack \n"
   ]
  },
  {
   "cell_type": "code",
   "execution_count": 7,
   "metadata": {},
   "outputs": [],
   "source": [
    "#Extract each countries comparison by storing it in specified variables. This will make it easier to plot.\n",
    "stack_ARG = vertical_stack[[\"ARG_cons\", \"ARG_prod\"]]\n",
    "stack_MEX = vertical_stack[[\"MEX_cons\", \"MEX_prod\"]]\n",
    "stack_AUS = vertical_stack[[\"AUS_cons\", \"AUS_prod\"]]\n",
    "stack_CAN = vertical_stack[[\"CAN_cons\", \"CAN_prod\"]]\n",
    "stack_GBP = vertical_stack[[\"GBP_cons\", \"GBP_prod\"]]\n",
    "stack_GER = vertical_stack[[\"GER_cons\", \"GER_prod\"]]\n",
    "stack_JPN = vertical_stack[[\"JPN_cons\", \"JPN_prod\"]]"
   ]
  },
  {
   "cell_type": "code",
   "execution_count": 8,
   "metadata": {},
   "outputs": [
    {
     "data": {
      "image/png": "[encoded data removed]",
      "text/plain": [
       "<Figure size 432x288 with 1 Axes>"
      ]
     },
     "metadata": {
      "needs_background": "light"
     },
     "output_type": "display_data"
    }
   ],
   "source": [
    "#Plot Argentina comparisson\n",
    "ARG_bal = vertical_stack.plot.bar(y=['ARG_cons', 'ARG_prod'], rot=0)\n",
    "plt.xticks(rotation = \"horizontal\")\n",
    "plt.title(\"Argentina: Consumption vs Production\")\n",
    "plt.xlabel(\"Dynamics features\")\n",
    "plt.legend([\"Consumption\", \"Production\"],bbox_to_anchor=(1.33, 1.05))\n",
    "plt.savefig(\"../Plots/ARG-cons-vs-prod\")"
   ]
  },
  {
   "cell_type": "code",
   "execution_count": 9,
   "metadata": {},
   "outputs": [
    {
     "data": {
      "image/png": "[encoded data removed]",
      "text/plain": [
       "<Figure size 432x288 with 1 Axes>"
      ]
     },
     "metadata": {
      "needs_background": "light"
     },
     "output_type": "display_data"
    }
   ],
   "source": [
    "#Plot Mexico comparisson\n",
    "MEX_bal = vertical_stack.plot.bar(y=['MEX_cons', 'MEX_prod'], rot=0)\n",
    "plt.xticks(rotation = \"horizontal\")\n",
    "plt.title(\"Mexico: Consumption vs Production\")\n",
    "plt.xlabel(\"Dynamics features\")\n",
    "plt.legend([\"Consumption\", \"Production\"],bbox_to_anchor=(1.33, 1.05))\n",
    "plt.savefig(\"../Plots/MEX-cons-vs-prod\")"
   ]
  },
  {
   "cell_type": "code",
   "execution_count": 10,
   "metadata": {},
   "outputs": [
    {
     "data": {
      "image/png": "[encoded data removed]",
      "text/plain": [
       "<Figure size 432x288 with 1 Axes>"
      ]
     },
     "metadata": {
      "needs_background": "light"
     },
     "output_type": "display_data"
    }
   ],
   "source": [
    "##Plot Japan comparisson\n",
    "JPN_bal = vertical_stack.plot.bar(y=['JPN_cons', 'JPN_prod'], rot=0)\n",
    "plt.xticks(rotation = \"horizontal\")\n",
    "plt.title(\"Japan: Consumption vs Production\")\n",
    "plt.xlabel(\"Dynamics features\")\n",
    "plt.legend([\"Consumption\", \"Production\"],bbox_to_anchor=(1.33, 1.05))\n",
    "plt.savefig(\"../Plots/JPN-cons-vs-prod\")"
   ]
  },
  {
   "cell_type": "code",
   "execution_count": 11,
   "metadata": {},
   "outputs": [
    {
     "data": {
      "image/png": "[encoded data removed]",
      "text/plain": [
       "<Figure size 432x288 with 1 Axes>"
      ]
     },
     "metadata": {
      "needs_background": "light"
     },
     "output_type": "display_data"
    }
   ],
   "source": [
    "#Plot Australia comparisson\n",
    "AUS_bal = vertical_stack.plot.bar(y=['AUS_cons', 'AUS_prod'], rot=0)\n",
    "plt.xticks(rotation = \"horizontal\")\n",
    "plt.title(\"Australia: Consumption vs Production\")\n",
    "plt.xlabel(\"Dynamics features\")\n",
    "plt.legend([\"Consumption\", \"Production\"],bbox_to_anchor=(1.33, 1.05))\n",
    "plt.savefig(\"../Plots/AUS-cons-vs-prod\")"
   ]
  },
  {
   "cell_type": "code",
   "execution_count": 12,
   "metadata": {},
   "outputs": [
    {
     "data": {
      "image/png": "[encoded data removed]",
      "text/plain": [
       "<Figure size 432x288 with 1 Axes>"
      ]
     },
     "metadata": {
      "needs_background": "light"
     },
     "output_type": "display_data"
    }
   ],
   "source": [
    "#Plot Canada comparisson\n",
    "CAN_bal = vertical_stack.plot.bar(y=['CAN_cons', 'CAN_prod'], rot=0)\n",
    "plt.xticks(rotation = \"horizontal\")\n",
    "plt.title(\"Canada: Consumption vs Production\")\n",
    "plt.xlabel(\"Dynamics features\")\n",
    "plt.legend([\"Consumption\", \"Production\"],bbox_to_anchor=(1.33, 1.05))\n",
    "plt.savefig(\"../Plots/CAN-cons-vs-prod\")"
   ]
  },
  {
   "cell_type": "code",
   "execution_count": 13,
   "metadata": {},
   "outputs": [
    {
     "data": {
      "image/png": "[encoded data removed]",
      "text/plain": [
       "<Figure size 432x288 with 1 Axes>"
      ]
     },
     "metadata": {
      "needs_background": "light"
     },
     "output_type": "display_data"
    }
   ],
   "source": [
    "#Plot UK comparisson\n",
    "GBP_bal = vertical_stack.plot.bar(y=['GBP_cons', 'GBP_prod'], rot=0)\n",
    "plt.xticks(rotation = \"horizontal\")\n",
    "plt.title(\"UK: Consumption vs Production\")\n",
    "plt.xlabel(\"Dynamics features\")\n",
    "plt.legend([\"Consumption\", \"Production\"],bbox_to_anchor=(1.33, 1.05))\n",
    "plt.savefig(\"../Plots/UK-cons-vs-prod\")"
   ]
  },
  {
   "cell_type": "code",
   "execution_count": 14,
   "metadata": {},
   "outputs": [
    {
     "data": {
      "image/png": "[encoded data removed]",
      "text/plain": [
       "<Figure size 432x288 with 1 Axes>"
      ]
     },
     "metadata": {
      "needs_background": "light"
     },
     "output_type": "display_data"
    }
   ],
   "source": [
    "#Plot Germany comparisson\n",
    "GER_bal = vertical_stack.plot.bar(y=['GER_cons', 'GER_prod'], rot=0)\n",
    "plt.xticks(rotation = \"horizontal\")\n",
    "plt.title(\"Germany: Consumption vs Production\")\n",
    "plt.xlabel(\"Dynamics features\")\n",
    "plt.legend([\"Consumption\", \"Production\"],bbox_to_anchor=(1.33, 1.05))\n",
    "plt.savefig(\"../Plots/GER-cons-vs-prod\")"
   ]
  },
  {
   "cell_type": "code",
   "execution_count": 15,
   "metadata": {},
   "outputs": [
    {
     "data": {
      "image/png": "[encoded data removed]",
      "text/plain": [
       "<Figure size 360x360 with 1 Axes>"
      ]
     },
     "metadata": {
      "needs_background": "light"
     },
     "output_type": "display_data"
    }
   ],
   "source": [
    "import seaborn as sns\n",
    "\n",
    "inv_stack = vertical_stack.T\n",
    "\n",
    "sns.lmplot(x='loudness',y='energy',data=by_nat,fit_reg=True) \n",
    "\n",
    "plt.title(\"Loudness vs Energy\")\n",
    "plt.xlabel(\"Loudness\")\n",
    "plt.ylabel(\"Energy\")\n",
    "plt.savefig(\"../Plots/Cons-loudness-vs-energy\")"
   ]
  },
  {
   "cell_type": "code",
   "execution_count": 16,
   "metadata": {},
   "outputs": [
    {
     "data": {
      "image/png": "[encoded data removed]",
      "text/plain": [
       "<Figure size 360x360 with 1 Axes>"
      ]
     },
     "metadata": {
      "needs_background": "light"
     },
     "output_type": "display_data"
    }
   ],
   "source": [
    "sns.lmplot(x='energy',y='valence',data=by_nat,fit_reg=True) \n",
    "\n",
    "plt.title(\"Energy vs Valence\")\n",
    "plt.xlabel(\"Energy\")\n",
    "plt.ylabel(\"Valence\")\n",
    "plt.savefig(\"../Plots/Cons-energy-vs-valence\")"
   ]
  },
  {
   "cell_type": "code",
   "execution_count": null,
   "metadata": {},
   "outputs": [],
   "source": []
  },
  {
   "cell_type": "code",
   "execution_count": null,
   "metadata": {},
   "outputs": [],
   "source": []
  }
 ],
 "metadata": {
  "kernelspec": {
   "display_name": "Python 3",
   "language": "python",
   "name": "python3"
  },
  "language_info": {
   "codemirror_mode": {
    "name": "ipython",
    "version": 3
   },
   "file_extension": ".py",
   "mimetype": "text/x-python",
   "name": "python",
   "nbconvert_exporter": "python",
   "pygments_lexer": "ipython3",
   "version": "3.8.3"
  }
 },
 "nbformat": 4,
 "nbformat_minor": 4
}
